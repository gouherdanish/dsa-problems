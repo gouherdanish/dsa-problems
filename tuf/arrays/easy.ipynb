{
 "cells": [
  {
   "cell_type": "markdown",
   "id": "b29d2a01",
   "metadata": {},
   "source": [
    "## Problem 1 - Largest Elem\n",
    "\n",
    "Given an array of integers nums, return the value of the largest element in the array\n",
    "\n",
    "Examples\n",
    "- Input: nums = [3, 3, 0, 99, -40]\n",
    "- Output: 99"
   ]
  },
  {
   "cell_type": "code",
   "execution_count": 1,
   "id": "fcff941e",
   "metadata": {},
   "outputs": [],
   "source": [
    "class Solution:\n",
    "    def largestElement(self, nums):\n",
    "        max_elem = float('-inf')\n",
    "        for num in nums:\n",
    "            max_elem = max(num,max_elem)\n",
    "        return max_elem"
   ]
  },
  {
   "cell_type": "code",
   "execution_count": 3,
   "id": "83f15f16",
   "metadata": {},
   "outputs": [
    {
     "data": {
      "text/plain": [
       "99"
      ]
     },
     "execution_count": 3,
     "metadata": {},
     "output_type": "execute_result"
    }
   ],
   "source": [
    "nums =  [3, 3, 0, 99, -40]#[1,2,3]\n",
    "Solution().largestElement(nums)"
   ]
  },
  {
   "cell_type": "markdown",
   "id": "9dd25ea7",
   "metadata": {},
   "source": [
    "## Problem 2 - Second Largest Number\n",
    "\n",
    "Given an array of integers nums, return the second-largest element in the array. If the second-largest element does not exist, return -1.\n",
    "\n",
    "Example 1\n",
    "- Input: nums = [8, 8, 7, 6, 5]\n",
    "- Output: 7\n",
    "\n",
    "Example 2\n",
    "- Input: nums = [10, 10, 10, 10, 10]\n",
    "- Output: -1"
   ]
  },
  {
   "cell_type": "code",
   "execution_count": null,
   "id": "09b1e10a",
   "metadata": {},
   "outputs": [],
   "source": [
    "class Solution:\n",
    "    def secondLargestElement(self, nums):\n",
    "        \"\"\"\n",
    "        Sort the numbers in descending order => nums_sorted\n",
    "        Iterate and find the first number which is not equal to the max\n",
    "\n",
    "        TIME => O(nlogn)\n",
    "        \"\"\"\n",
    "        nums_sorted = sorted(nums,reverse=True)\n",
    "        max_num = nums_sorted[0]\n",
    "        for num in nums_sorted:\n",
    "            if num != max_num:\n",
    "                return num\n",
    "        return -1\n",
    "    \n",
    "class Solution:\n",
    "    def secondLargestElement2(self, nums):\n",
    "        \"\"\"\n",
    "        Find the max elem => max_elem\n",
    "        Iterate and find the elem which is smaller than max_elem but larger than all other elems\n",
    "\n",
    "        TIME => O(n)\n",
    "        \"\"\"\n",
    "        max_elem = max(nums)\n",
    "        res = float('-inf')\n",
    "        for num in nums:\n",
    "            if num < max_elem and num > res:\n",
    "                res = num\n",
    "        return -1 if res == float('-inf') else res"
   ]
  },
  {
   "cell_type": "code",
   "execution_count": 8,
   "id": "3e02b63a",
   "metadata": {},
   "outputs": [
    {
     "data": {
      "text/plain": [
       "7"
      ]
     },
     "execution_count": 8,
     "metadata": {},
     "output_type": "execute_result"
    }
   ],
   "source": [
    "nums = [7, 7, 2, 2, 10, 10, 10]#[1,2,3]#[1,1,1]\n",
    "Solution().secondLargestElement2(nums)"
   ]
  },
  {
   "cell_type": "markdown",
   "id": "3932a729",
   "metadata": {},
   "source": [
    "## Problem 3 - Check if array is sorted\n",
    "\n",
    "Given an array nums of n integers, return true if the array nums is sorted in non-decreasing order or else false.\n",
    "\n",
    "Example\n",
    "- Input : nums = [1, 2, 3, 4, 5]\n",
    "- Output : true"
   ]
  },
  {
   "cell_type": "code",
   "execution_count": 19,
   "id": "2c44a5ad",
   "metadata": {},
   "outputs": [],
   "source": [
    "class Solution:\n",
    "    def isSorted(self, nums):\n",
    "        \"\"\"\n",
    "        Iterate and check if A[i+1] >= A[i]\n",
    "\n",
    "        TIME => O(N)\n",
    "        \"\"\"\n",
    "        for i in range(len(nums)-1):\n",
    "            if nums[i] > nums[i+1]:\n",
    "                return False\n",
    "        return True"
   ]
  },
  {
   "cell_type": "code",
   "execution_count": 16,
   "id": "efac68dd",
   "metadata": {},
   "outputs": [
    {
     "data": {
      "text/plain": [
       "False"
      ]
     },
     "execution_count": 16,
     "metadata": {},
     "output_type": "execute_result"
    }
   ],
   "source": [
    "nums = [1,2,1,1]#[1,2,3,4,5]\n",
    "Solution().isSorted(nums)"
   ]
  },
  {
   "cell_type": "markdown",
   "id": "f7fc7528",
   "metadata": {},
   "source": [
    "## Problem 4 - Remove duplicates\n",
    "\n",
    "Given an integer array nums sorted in non-decreasing order, remove all duplicates in-place so that each unique element appears only once. Return the number of unique elements in the array.\n",
    "\n",
    "Example\n",
    "- Input: nums = [0, 0, 3, 3, 5, 6]\n",
    "- Output: 4"
   ]
  },
  {
   "cell_type": "code",
   "execution_count": null,
   "id": "eb45da3e",
   "metadata": {},
   "outputs": [],
   "source": [
    "class Solution:\n",
    "    def removeDuplicates(self, nums):\n",
    "        \"\"\"\n",
    "        Using set\n",
    "\n",
    "        TIME => O(N)\n",
    "        \"\"\"\n",
    "        return len(set(nums))\n",
    "    \n",
    "class Solution:\n",
    "    def removeDuplicates2(self, nums):\n",
    "        \"\"\"\n",
    "        Iterate and skip num if it is same as the last one\n",
    "        When you encounter a different number, then take it\n",
    "\n",
    "        TIME => O(N)\n",
    "        \"\"\"\n",
    "        # uniq = [nums[0]]\n",
    "        if not nums: return 0\n",
    "        uniq_idx = 0\n",
    "        uniq_ctr = 1\n",
    "        for i in range(1,len(nums)):\n",
    "            if nums[i] != nums[uniq_idx]:\n",
    "                # uniq.append(nums[i])\n",
    "                uniq_idx = i\n",
    "                uniq_ctr += 1\n",
    "        return uniq_ctr"
   ]
  },
  {
   "cell_type": "code",
   "execution_count": 32,
   "id": "22e608f0",
   "metadata": {},
   "outputs": [
    {
     "data": {
      "text/plain": [
       "4"
      ]
     },
     "execution_count": 32,
     "metadata": {},
     "output_type": "execute_result"
    }
   ],
   "source": [
    "nums = [-2, 2, 4, 4, 4, 4, 5, 5]#[0,0,3,3,5,6]\n",
    "Solution().removeDuplicates2(nums)"
   ]
  },
  {
   "cell_type": "markdown",
   "id": "a9d7253a",
   "metadata": {},
   "source": [
    "## Problem 5 - Left Rotate array by One\n",
    "\n",
    "Given an integer array nums, rotate the array to the left by one.\n",
    "\n",
    "Note: There is no need to return anything, just modify the given array.\n",
    "\n",
    "Example\n",
    "- Input: nums = [1, 2, 3, 4, 5]\n",
    "- Output: [2, 3, 4, 5, 1]"
   ]
  },
  {
   "cell_type": "code",
   "execution_count": 40,
   "id": "3d8dce65",
   "metadata": {},
   "outputs": [],
   "source": [
    "class Solution:\n",
    "    def rotateArrayByOne(self, nums):\n",
    "        \"\"\"\n",
    "        Create a temp arr\n",
    "        Iterate from i = 1 to n and append to arr\n",
    "        Finally append nums[0] to arr\n",
    "        \n",
    "        TIME => O(N)\n",
    "        SPACE => O(N)\n",
    "        \"\"\"\n",
    "        return [x for x in nums[1:]] + [nums[0]]\n",
    "    \n",
    "class Solution:\n",
    "    def rotateArrayByOne2(self, nums):\n",
    "        \"\"\"\n",
    "        Take temp = nums[0]\n",
    "        Iterate and shift elems of nums to the left by one\n",
    "        Append temp at last\n",
    "        \n",
    "        TIME => O(N)\n",
    "        SPACE => O(1) (Inplace)\n",
    "        \"\"\"\n",
    "        temp = nums[0]\n",
    "        for i in range(len(nums)-1):\n",
    "            nums[i] = nums[i+1]\n",
    "        nums[i+1] = temp\n",
    "        return nums\n",
    "\n"
   ]
  },
  {
   "cell_type": "code",
   "execution_count": 41,
   "id": "c86e9c9d",
   "metadata": {},
   "outputs": [
    {
     "data": {
      "text/plain": [
       "[2, 3, 4, 5, 1]"
      ]
     },
     "execution_count": 41,
     "metadata": {},
     "output_type": "execute_result"
    }
   ],
   "source": [
    "nums = [1,2,3,4,5]\n",
    "Solution().rotateArrayByOne2(nums)"
   ]
  },
  {
   "cell_type": "markdown",
   "id": "bdff0e54",
   "metadata": {},
   "source": [
    "## Problem 6 - Left Rotate by k places\n",
    "\n",
    "Given an integer array nums and a non-negative integer k, rotate the array to the left by k steps.\n",
    "\n",
    "Example\n",
    "- Input: nums = [3, 4, 1, 5, 3, -5], k = 8\n",
    "- Output: nums = [1, 5, 3, -5, 3, 4]"
   ]
  },
  {
   "cell_type": "code",
   "execution_count": 44,
   "id": "84e27b10",
   "metadata": {},
   "outputs": [],
   "source": [
    "class Solution:\n",
    "    def rotateArray(self, nums, k):\n",
    "        \"\"\"\n",
    "        N = len(nums)\n",
    "        take k = k mod N\n",
    "        Take Temp arr\n",
    "        Iterate from i = k to N and append to arr\n",
    "        Iterate from i = 0 to k and append to arr\n",
    "\n",
    "        TIME => O(N)\n",
    "        SPACE => O(N)\n",
    "        \"\"\"\n",
    "        N = len(nums)\n",
    "        k = k % N\n",
    "        return nums[k:] + nums[:k]"
   ]
  },
  {
   "cell_type": "code",
   "execution_count": 43,
   "id": "79b4bd38",
   "metadata": {},
   "outputs": [
    {
     "data": {
      "text/plain": [
       "[1, 5, 3, -5, 3, 4]"
      ]
     },
     "execution_count": 43,
     "metadata": {},
     "output_type": "execute_result"
    }
   ],
   "source": [
    "nums = [3, 4, 1, 5, 3, -5]\n",
    "k = 8\n",
    "Solution().rotateArray(nums,k)"
   ]
  },
  {
   "cell_type": "markdown",
   "id": "217ac3ca",
   "metadata": {},
   "source": [
    "## Problem 7 - Move zeros to the end\n",
    "\n",
    "Given an integer array nums, move all the 0's to the end of the array. \n",
    "The relative order of the other elements must remain the same. \n",
    "This must be done in place, without making a copy of the array.\n",
    "\n",
    "Example\n",
    "- Input: nums = [0, 1, 4, 0, 5, 2]\n",
    "- Output: [1, 4, 5, 2, 0, 0]"
   ]
  },
  {
   "cell_type": "code",
   "execution_count": null,
   "id": "1e7c12ec",
   "metadata": {},
   "outputs": [],
   "source": [
    "class Solution:\n",
    "    def moveZeroes(self, nums):\n",
    "        \"\"\"\n",
    "        Take temp arr\n",
    "        Iterate and append non-zero elems to arr, and count zeros (k)\n",
    "        Iterate for k and append 0 to arr\n",
    "\n",
    "        TIME => O(N)\n",
    "        SPACE => O(N)\n",
    "        \"\"\"\n",
    "        temp = []\n",
    "        k = 0\n",
    "        N = len(nums)\n",
    "        for i in range(N):\n",
    "            if nums[i] != 0:\n",
    "                temp.append(nums[i])\n",
    "            else:\n",
    "                k += 1\n",
    "        for i in range(k):\n",
    "            temp.append(0)\n",
    "        return temp\n",
    "\n",
    "class Solution:\n",
    "    def moveZeroes2(self, nums):\n",
    "        \"\"\"\n",
    "        Two Pointer Approach\n",
    "        Iterate and find the index of first zero elem -> j\n",
    "        Iterate over nums i = j+1 to N\n",
    "            if non-zero elem is encountered, \n",
    "                then swap nums[i] and nums[j], \n",
    "                increment j\n",
    "\n",
    "        TIME => O(N)\n",
    "        SPACE => O(1)\n",
    "        \"\"\"\n",
    "        N = len(nums)\n",
    "        for j in range(N):\n",
    "            if nums[j] == 0:\n",
    "                break\n",
    "        for i in range(j+1,N):\n",
    "            if nums[i] != 0:\n",
    "                nums[i], nums[j] = nums[j], nums[i]\n",
    "                j += 1\n",
    "        return nums"
   ]
  },
  {
   "cell_type": "code",
   "execution_count": 55,
   "id": "bd60f1ce",
   "metadata": {},
   "outputs": [
    {
     "data": {
      "text/plain": [
       "[1, 4, 0, 0, 0, 0]"
      ]
     },
     "execution_count": 55,
     "metadata": {},
     "output_type": "execute_result"
    }
   ],
   "source": [
    "nums = [0,1,0,0,0,4]#[1,2,3,4]#[0, 1, 4, 0, 5, 2]\n",
    "Solution().moveZeroes2(nums)"
   ]
  },
  {
   "cell_type": "markdown",
   "id": "39f33b04",
   "metadata": {},
   "source": [
    "## Problem 8 - Union of two Sorted Arrays\n",
    "\n",
    "Given two sorted arrays nums1 and nums2, return an array that contains the union of these two arrays. \n",
    "The elements in the union must be in ascending order.\n",
    "The arrays themselves can contain duplicate elements\n",
    "\n",
    "The union of two arrays is an array where all values are distinct and are present in either the first array, the second array, or both.\n",
    "\n",
    "Example\n",
    "- Input: nums1 = [1, 2, 3, 4, 5], nums2 = [1, 2, 7]\n",
    "- Output: [1, 2, 3, 4, 5, 7]"
   ]
  },
  {
   "cell_type": "code",
   "execution_count": 84,
   "id": "ee65798c",
   "metadata": {},
   "outputs": [],
   "source": [
    "class Solution:\n",
    "    def unionArray(self, nums1, nums2):\n",
    "        \"\"\"\n",
    "        TIME = O(m+n) Avg; O(m^2 + n^2) Worse\n",
    "        \"\"\"\n",
    "        s1 = set(nums1)\n",
    "        s2 = set(nums2)\n",
    "        s = s1.union(s2)\n",
    "        return list(s)\n",
    "\n",
    "class Solution:\n",
    "    def unionArray2(self, nums1, nums2):\n",
    "        \"\"\"\n",
    "        Create an empty array -> nums\n",
    "        Take Two Pointers i and j for each array\n",
    "        Iterate until one of the arrays is exhausted\n",
    "            Append min(nums1[i], nums2[j]) to nums\n",
    "            Increment i or j accordingly\n",
    "        If nums1 is exhausted, extend nums2 to nums or vice versa\n",
    "        \n",
    "        TIME => O(m+n) Worst\n",
    "        \"\"\"\n",
    "        i,j = 0,0\n",
    "        union = []\n",
    "        m,n = len(nums1), len(nums2)\n",
    "        while i<m and j<n:\n",
    "            if nums1[i] <= nums2[j]:\n",
    "                if len(union) == 0 or nums1[i] != union[-1]:\n",
    "                    union.append(nums1[i])\n",
    "                i+=1\n",
    "            else:\n",
    "                if len(union) == 0 or nums2[j] != union[-1]:\n",
    "                    union.append(nums2[j])\n",
    "                j+=1\n",
    "        if i>=m:\n",
    "            union.extend(nums2[j:])\n",
    "        if j>=n:\n",
    "            union.extend(nums1[i:])\n",
    "        return union\n"
   ]
  },
  {
   "cell_type": "code",
   "execution_count": 85,
   "id": "e151d9c0",
   "metadata": {},
   "outputs": [
    {
     "data": {
      "text/plain": [
       "[1, 2, 3, 4, 5, 7]"
      ]
     },
     "execution_count": 85,
     "metadata": {},
     "output_type": "execute_result"
    }
   ],
   "source": [
    "nums1 = [1,3,4,5]\n",
    "nums2 = [1,2,7]\n",
    "Solution().unionArray2(nums1,nums2)"
   ]
  },
  {
   "cell_type": "markdown",
   "id": "32b932b6",
   "metadata": {},
   "source": [
    "## Problem 9: Find Missing Number\n",
    "\n",
    "Given an integer array of size n containing distinct values in the range from 0 to n (inclusive), return the only number missing from the array within this range.\n",
    "\n",
    "Example\n",
    "- Input: nums = [0, 2, 3, 1, 4]\n",
    "- Output: 5\n",
    "\n",
    "Constraints:\n",
    "- n == nums.length\n",
    "- 1 <= n <= 104\n",
    "- 0 <= nums[i] <= n\n",
    "- All the numbers of nums are unique."
   ]
  },
  {
   "cell_type": "code",
   "execution_count": 145,
   "id": "b197374c",
   "metadata": {},
   "outputs": [],
   "source": [
    "class Solution:\n",
    "    def missingNumber(self, nums):\n",
    "        \"\"\"\n",
    "        Using set difference\n",
    "\n",
    "        TIME => Worst: O(n^2) Avg: O(n)\n",
    "        \"\"\"\n",
    "        temp = set(range(len(nums)+1))\n",
    "        missing = set(temp).difference(set(nums))\n",
    "        return list(missing)[0]\n",
    "\n",
    "    def missingNumber2(self, nums):\n",
    "        \"\"\"\n",
    "        Iterate over arr using i:\n",
    "            check if arr[i] is not in nums\n",
    "\n",
    "        TIME => O(n^2)\n",
    "        \"\"\"\n",
    "        n = len(nums)\n",
    "        for i in range(n+1):\n",
    "            if i not in nums:\n",
    "                break\n",
    "        return i\n",
    "      \n",
    "    def missingNumber3(self, nums):\n",
    "        \"\"\"\n",
    "        Create a temp zero array of size n+1 -> arr\n",
    "        Iterate on nums using i from 0 to n\n",
    "            replace(arr[nums[i]], i)\n",
    "        Iterate on arr and find the index which has still 0 => Missing number\n",
    "\n",
    "        TIME => O(n)\n",
    "        SPACE => O(n)\n",
    "        \"\"\"\n",
    "        n = len(nums)\n",
    "        zero_elm = nums[0]\n",
    "        arr = [0]*(n+1)\n",
    "        # print(arr)\n",
    "        for i in range(n):\n",
    "            arr[nums[i]] = i\n",
    "        # print(arr)\n",
    "        for i in range(n+1):\n",
    "            if i != zero_elm and arr[i] == 0: break\n",
    "        return i\n",
    "\n",
    "    def missingNumber4(self, nums):\n",
    "        \"\"\"\n",
    "        Iterate over nums and create a freq map\n",
    "        Iterate over freq map and return key with freq 0\n",
    "\n",
    "        TIME => O(n)\n",
    "        SPACE => O(n)\n",
    "        \"\"\"\n",
    "        n = len(nums)\n",
    "        freq = {x:0 for x in range(n+1)}\n",
    "        for i in range(n):\n",
    "            freq[nums[i]] = 1\n",
    "        for k,v in freq.items():\n",
    "            if v == 0: break\n",
    "        return k\n",
    "\n",
    "    def missingNumber5(self, nums):\n",
    "        \"\"\"\n",
    "        Find sum of nums => S1\n",
    "        Find sum of 1 to len(nums) => S2\n",
    "        Missing Num = S2 - S1\n",
    "        \n",
    "        TIME => O(n)\n",
    "        SPACE => O(1)\n",
    "        \"\"\"\n",
    "        n = len(nums)\n",
    "        s1, s2 = 0, 0\n",
    "        for i in range(n):\n",
    "            s1 += nums[i]\n",
    "        for i in range(n+1):\n",
    "            s2 += i\n",
    "        return s2 - s1\n",
    "\n",
    "    def missingNumber6(self, nums):\n",
    "        \"\"\"\n",
    "        Using XOR\n",
    "\n",
    "        nums = [0,2,3,1,4], N = 5\n",
    "        Iterate i = 0 to N and take xor1 = 0^1^2^3^4^5\n",
    "        Iterate over nums and take xor2 = 0^2^3^1^4\n",
    "        Take (xor1) xor (xor2) \n",
    "            = (0^1^2^3^4^5) ^ (0^2^3^1^4)\n",
    "            = (0^0)^(1^1)^(2^2)^(3^3)^(4^4)^(5)\n",
    "            = 0^0^0^0^0^5\n",
    "            = 0^5\n",
    "            = 5\n",
    "        \"\"\"\n",
    "        n = len(nums)\n",
    "        xor1, xor2 = 0,0\n",
    "        for i in range(n+1):\n",
    "            xor1 = xor1 ^ i\n",
    "        for i in range(n):\n",
    "            xor2 = xor2 ^ nums[i]\n",
    "        return xor1 ^ xor2\n",
    "        "
   ]
  },
  {
   "cell_type": "code",
   "execution_count": 147,
   "id": "6213356b",
   "metadata": {},
   "outputs": [
    {
     "data": {
      "text/plain": [
       "0"
      ]
     },
     "execution_count": 147,
     "metadata": {},
     "output_type": "execute_result"
    }
   ],
   "source": [
    "nums = [1,2,3]#[0, 3, 1, 5, 6, 2]#[0,2,3,1,4]#\n",
    "Solution().missingNumber6(nums)"
   ]
  },
  {
   "cell_type": "markdown",
   "id": "c25ab54d",
   "metadata": {},
   "source": [
    "## Problem 10 - Maximum Consecutive Ones\n",
    "\n",
    "Given a binary array nums, return the maximum number of consecutive 1s in the array.\n",
    "A binary array is an array that contains only 0s and 1s.\n",
    "\n",
    "Example 1\n",
    "- Input: nums = [1, 1, 0, 0, 1, 1, 1, 0]\n",
    "- Output: 3\n",
    "\n",
    "Example 2\n",
    "- Input: nums = [0, 0, 0, 0, 0, 0, 0, 0]\n",
    "- Output: 0"
   ]
  },
  {
   "cell_type": "code",
   "execution_count": null,
   "id": "1b6e1524",
   "metadata": {},
   "outputs": [],
   "source": [
    "class Solution:\n",
    "    def findMaxConsecutiveOnes(self, nums):\n",
    "        \"\"\"\n",
    "        Take curr_count and max_count\n",
    "        Iterate over nums\n",
    "            if encounter 1:\n",
    "                Increment curr_count by 1\n",
    "            if encounter 0:\n",
    "                Reset curr_count to 0\n",
    "            Set max_count to max(max_count,curr_count)\n",
    "        \n",
    "        TIME => O(n)\n",
    "        SPACE => O(1)\n",
    "        \"\"\"\n",
    "        curr_count, max_count = 0,0\n",
    "        n = len(nums)\n",
    "        for i in range(n):\n",
    "            if nums[i] == 1:\n",
    "                curr_count += 1\n",
    "            else:\n",
    "                curr_count = 0\n",
    "            max_count = max(max_count,curr_count)\n",
    "        return max_count"
   ]
  },
  {
   "cell_type": "code",
   "execution_count": 128,
   "id": "20430473",
   "metadata": {},
   "outputs": [
    {
     "data": {
      "text/plain": [
       "0"
      ]
     },
     "execution_count": 128,
     "metadata": {},
     "output_type": "execute_result"
    }
   ],
   "source": [
    "nums = [0,0,0]#[1, 1, 0, 0, 1, 1, 1, 0]\n",
    "Solution().findMaxConsecutiveOnes(nums)"
   ]
  },
  {
   "cell_type": "markdown",
   "id": "2a83ce75",
   "metadata": {},
   "source": [
    "## Problem 11 - Single Number\n",
    "\n",
    "Given an array of nums of n integers. Every integer in the array appears twice except one integer. Find the number that appeared once in the array.\n",
    "\n",
    "Example \n",
    "\n",
    "- Input : nums = [1, 2, 2, 4, 3, 1, 4]\n",
    "- Output : 3"
   ]
  },
  {
   "cell_type": "code",
   "execution_count": 148,
   "id": "57437175",
   "metadata": {},
   "outputs": [],
   "source": [
    "class Solution:\n",
    "    def singleNumber(self, nums):\n",
    "        \"\"\"\n",
    "        Brute Force Approach\n",
    "        \n",
    "        Iterate over each num in nums\n",
    "            Count how many times this number appears in nums array\n",
    "            if count is 1, then return it\n",
    "        \n",
    "        TIME => O(n^2)\n",
    "        SPACE => O(1)\n",
    "        \"\"\"\n",
    "        n = len(nums)\n",
    "        for i in range(n):\n",
    "            count = 0\n",
    "            for j in range(n):\n",
    "                if nums[i] == nums[j]:\n",
    "                    count += 1\n",
    "            if count == 1:\n",
    "                return nums[i]\n",
    "\n",
    "class Solution:\n",
    "    def singleNumber2(self, nums):\n",
    "        \"\"\"\n",
    "        Using Hashmap\n",
    "\n",
    "        Iterate over nums and fill a hashmap with count of each element\n",
    "        Iterate over hashmap and return key with count =1 \n",
    "\n",
    "        TIME => O(n)\n",
    "        SPACE => O(n)\n",
    "        \"\"\"\n",
    "        freq = {}\n",
    "        n = len(nums)\n",
    "        for i in range(n):\n",
    "            freq[nums[i]] = freq.get(nums[i],0) + 1\n",
    "        for k,v in freq.items():\n",
    "            if v == 1: return k\n",
    "\n",
    "class Solution:\n",
    "    def singleNumber3(self, nums):\n",
    "        \"\"\"\n",
    "        Using XOR\n",
    "\n",
    "        Iterate over nums and find iterative xor\n",
    "        The result will be single element\n",
    "        \"\"\"\n",
    "        xor = 0\n",
    "        for num in nums:\n",
    "            xor ^= num\n",
    "        return xor"
   ]
  },
  {
   "cell_type": "code",
   "execution_count": 151,
   "id": "65f6b405",
   "metadata": {},
   "outputs": [
    {
     "data": {
      "text/plain": [
       "3"
      ]
     },
     "execution_count": 151,
     "metadata": {},
     "output_type": "execute_result"
    }
   ],
   "source": [
    "nums = [1, 2, 2, 3, 4, 1, 4]\n",
    "Solution().singleNumber3(nums)"
   ]
  },
  {
   "cell_type": "markdown",
   "id": "bdd99fb1",
   "metadata": {},
   "source": [
    "## Problem 12 - Longest subarray with sum k\n",
    "\n",
    "Given an array nums of size n and an integer k, find the length of the longest sub-array that sums to k. If no such sub-array exists, return 0.\n",
    "\n",
    "Example 1:\n",
    "- Input: nums = [10, 5, 2, 7, 1, 9],  k=15\n",
    "- Output: 4\n",
    "\n",
    "Example 2:\n",
    "- Input: nums = [-1, 1, 1], k=1\n",
    "- Output: 3"
   ]
  },
  {
   "cell_type": "code",
   "execution_count": null,
   "id": "7b037a58",
   "metadata": {},
   "outputs": [],
   "source": [
    "class Solution:\n",
    "    def longestSubarray(self, nums, k):\n",
    "        \"\"\"\n",
    "        Brute Force\n",
    "        Generate all sub-arrays\n",
    "        Sum each sub-array and check if it equals k\n",
    "\n",
    "        TIME => O(n^3)\n",
    "        SPACE => O(1)\n",
    "        \"\"\"\n",
    "        n = len(nums)\n",
    "        l = 0\n",
    "        for p in range(n):\n",
    "            for q in range(p,n):\n",
    "                sum = 0\n",
    "                for r in range(p,q):\n",
    "                    sum += nums[r]\n",
    "                    if sum == k:\n",
    "                        l = max(l,r+1-p)\n",
    "        return l\n",
    "    \n",
    "class Solution:\n",
    "    def longestSubarray2(self, nums, k):\n",
    "        \"\"\"\n",
    "        Better Approach\n",
    "        No need to create each subarray and loop over it for calculating sum\n",
    "        We can reduce one loop by tracking sum while moving second pointer itself\n",
    "\n",
    "        TIME => O(n^2)\n",
    "        SPACE => O(1)\n",
    "        \"\"\"\n",
    "        n = len(nums)\n",
    "        l = 0\n",
    "        for p in range(n):\n",
    "            sum = 0\n",
    "            for q in range(p,n):\n",
    "                sum += nums[q]\n",
    "                if sum == k:\n",
    "                    l = max(l,q+1-p)\n",
    "        return l\n",
    "    \n",
    "class Solution:\n",
    "    def longestSubarray3(self, nums, k):\n",
    "        \"\"\"\n",
    "        Optimal Approach - Using Hashmap\n",
    "        Iterate over array\n",
    "            find the prefix sum and save in hashmap\n",
    "            Check if sum-k has already appeared before, update length\n",
    "\n",
    "        TIME => O(n)\n",
    "        SPACE => O(n)\n",
    "        \"\"\"\n",
    "        n = len(nums)\n",
    "        cache = {}\n",
    "        l = 0\n",
    "        sum = 0\n",
    "        for p in range(n):\n",
    "            sum += nums[p] # prefix sum\n",
    "            cache[sum] = p\n",
    "            if sum == k:\n",
    "                l = max(l,p+1)\n",
    "            else:\n",
    "                rem = sum - k\n",
    "                if rem in cache:\n",
    "                    q = cache[rem]\n",
    "                    l = max(l,p-q)\n",
    "        return l"
   ]
  },
  {
   "cell_type": "code",
   "execution_count": 172,
   "id": "6cf3a130",
   "metadata": {},
   "outputs": [
    {
     "data": {
      "text/plain": [
       "3"
      ]
     },
     "execution_count": 172,
     "metadata": {},
     "output_type": "execute_result"
    }
   ],
   "source": [
    "# nums,k = [10,5,2,1,7,9],15\n",
    "# nums,k = [0,1,-1,2,-2],0\n",
    "# nums,k = [-3,2,1], 6\n",
    "nums, k = [-1,1,1], 1\n",
    "Solution().longestSubarray3(nums,k)"
   ]
  },
  {
   "cell_type": "code",
   "execution_count": null,
   "id": "196cdb13",
   "metadata": {},
   "outputs": [],
   "source": []
  },
  {
   "cell_type": "code",
   "execution_count": null,
   "id": "3a4205ab",
   "metadata": {},
   "outputs": [],
   "source": []
  }
 ],
 "metadata": {
  "kernelspec": {
   "display_name": "mle",
   "language": "python",
   "name": "python3"
  },
  "language_info": {
   "codemirror_mode": {
    "name": "ipython",
    "version": 3
   },
   "file_extension": ".py",
   "mimetype": "text/x-python",
   "name": "python",
   "nbconvert_exporter": "python",
   "pygments_lexer": "ipython3",
   "version": "3.11.8"
  }
 },
 "nbformat": 4,
 "nbformat_minor": 5
}
