{
 "cells": [
  {
   "cell_type": "markdown",
   "id": "69717201",
   "metadata": {},
   "source": [
    "## Problem #1768. Merge Strings Alternately\n",
    "You are given two strings word1 and word2. Merge the strings by adding letters in alternating order, starting with word1. If a string is longer than the other, append the additional letters onto the end of the merged string.\n",
    "\n",
    "Return the merged string.\n",
    "\n",
    "Example 1:\n",
    "\n",
    "- Input: word1 = \"abc\", word2 = \"pqr\"\n",
    "- Output: \"apbqcr\"\n",
    "\n",
    "Example 2:\n",
    "\n",
    "- Input: word1 = \"ab\", word2 = \"pqrs\"\n",
    "- Output: \"apbqrs\"\n",
    "- Explanation: Notice that as word2 is longer, \"rs\" is appended to the end.\n",
    "\n",
    "Constraints:\n",
    "- 1 <= word1.length, word2.length <= 100\n",
    "- word1 and word2 have only lowercase letters"
   ]
  },
  {
   "cell_type": "code",
   "execution_count": 1,
   "id": "023da48c",
   "metadata": {},
   "outputs": [],
   "source": [
    "\"\"\"\n",
    "Logic:\n",
    "\n",
    "Create an empty string 'ws' having length = l1+l2\n",
    "Iterate over word1 and word2\n",
    "if any word is exhausted, extend ws with other word \n",
    "\"\"\"\n",
    "\n",
    "\n",
    "def merge_strings(word1:str, word2:str):\n",
    "    l1, l2 = len(word1), len(word2)\n",
    "    i, j, k = 0,0,0\n",
    "    ws = \"\"\n",
    "    while k < l1+l2:\n",
    "        if i < l1: \n",
    "            ws += word1[i]\n",
    "            i+=1\n",
    "            k+=1\n",
    "        if j < l2: \n",
    "            ws += word2[j]\n",
    "            j+=1\n",
    "            k+=1\n",
    "    if i>=l1: ws += word2[j:]\n",
    "    if j>=l2: ws += word1[i:]\n",
    "    return ws"
   ]
  },
  {
   "cell_type": "code",
   "execution_count": 3,
   "id": "5d971647",
   "metadata": {},
   "outputs": [
    {
     "data": {
      "text/plain": [
       "'apbqrs'"
      ]
     },
     "execution_count": 3,
     "metadata": {},
     "output_type": "execute_result"
    }
   ],
   "source": [
    "w1 = \"ab\"\n",
    "w2 = \"pqrs\"\n",
    "\n",
    "merge_strings(w1,w2)"
   ]
  },
  {
   "cell_type": "markdown",
   "id": "8efe7936",
   "metadata": {},
   "source": [
    "## Problem #1071. Greatest Common Divisor of Strings\n",
    "\n",
    "For two strings s and t, we say \"t divides s\" if and only if s = t + t + t + ... + t + t (i.e., t is concatenated with itself one or more times).\n",
    "\n",
    "Given two strings str1 and str2, return the largest string x such that x divides both str1 and str2.\n",
    "\n",
    "Example 1:\n",
    "- Input: str1 = \"ABCABC\", str2 = \"ABC\"\n",
    "- Output: \"ABC\"\n",
    "\n",
    "Example 2:\n",
    "- Input: str1 = \"LEET\", str2 = \"CODE\"\n",
    "- Output: \"\"\n",
    "\n",
    "Example 3:\n",
    "- Input: str1 = \"ABABAB\", str2 = \"ABAB\"\n",
    "- Output: \"AB\""
   ]
  },
  {
   "cell_type": "code",
   "execution_count": null,
   "id": "0317a8d6",
   "metadata": {},
   "outputs": [],
   "source": []
  },
  {
   "cell_type": "code",
   "execution_count": null,
   "id": "3966161f",
   "metadata": {},
   "outputs": [],
   "source": []
  },
  {
   "cell_type": "code",
   "execution_count": null,
   "id": "e78355a2",
   "metadata": {},
   "outputs": [],
   "source": []
  },
  {
   "cell_type": "code",
   "execution_count": null,
   "id": "508457f0",
   "metadata": {},
   "outputs": [],
   "source": []
  }
 ],
 "metadata": {
  "kernelspec": {
   "display_name": "mle",
   "language": "python",
   "name": "python3"
  },
  "language_info": {
   "codemirror_mode": {
    "name": "ipython",
    "version": 3
   },
   "file_extension": ".py",
   "mimetype": "text/x-python",
   "name": "python",
   "nbconvert_exporter": "python",
   "pygments_lexer": "ipython3",
   "version": "3.11.8"
  }
 },
 "nbformat": 4,
 "nbformat_minor": 5
}
