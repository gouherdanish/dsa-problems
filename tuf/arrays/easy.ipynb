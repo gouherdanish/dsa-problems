{
 "cells": [
  {
   "cell_type": "markdown",
   "id": "b29d2a01",
   "metadata": {},
   "source": [
    "## Problem 1 - Largest Elem\n",
    "\n",
    "Given an array of integers nums, return the value of the largest element in the array\n",
    "\n",
    "Examples\n",
    "- Input: nums = [3, 3, 0, 99, -40]\n",
    "- Output: 99"
   ]
  },
  {
   "cell_type": "code",
   "execution_count": 1,
   "id": "fcff941e",
   "metadata": {},
   "outputs": [],
   "source": [
    "class Solution:\n",
    "    def largestElement(self, nums):\n",
    "        max_elem = float('-inf')\n",
    "        for num in nums:\n",
    "            max_elem = max(num,max_elem)\n",
    "        return max_elem"
   ]
  },
  {
   "cell_type": "code",
   "execution_count": 3,
   "id": "83f15f16",
   "metadata": {},
   "outputs": [
    {
     "data": {
      "text/plain": [
       "99"
      ]
     },
     "execution_count": 3,
     "metadata": {},
     "output_type": "execute_result"
    }
   ],
   "source": [
    "nums =  [3, 3, 0, 99, -40]#[1,2,3]\n",
    "Solution().largestElement(nums)"
   ]
  },
  {
   "cell_type": "markdown",
   "id": "9dd25ea7",
   "metadata": {},
   "source": [
    "## Problem 2 - Second Largest Number\n",
    "\n",
    "Given an array of integers nums, return the second-largest element in the array. If the second-largest element does not exist, return -1.\n",
    "\n",
    "Example 1\n",
    "- Input: nums = [8, 8, 7, 6, 5]\n",
    "- Output: 7\n",
    "\n",
    "Example 2\n",
    "- Input: nums = [10, 10, 10, 10, 10]\n",
    "- Output: -1"
   ]
  },
  {
   "cell_type": "code",
   "execution_count": null,
   "id": "09b1e10a",
   "metadata": {},
   "outputs": [],
   "source": [
    "class Solution:\n",
    "    def secondLargestElement(self, nums):\n",
    "        \"\"\"\n",
    "        Sort the numbers in descending order => nums_sorted\n",
    "        Iterate and find the first number which is not equal to the max\n",
    "\n",
    "        TIME => O(nlogn)\n",
    "        \"\"\"\n",
    "        nums_sorted = sorted(nums,reverse=True)\n",
    "        max_num = nums_sorted[0]\n",
    "        for num in nums_sorted:\n",
    "            if num != max_num:\n",
    "                return num\n",
    "        return -1\n",
    "    \n",
    "class Solution:\n",
    "    def secondLargestElement2(self, nums):\n",
    "        \"\"\"\n",
    "        Find the max elem => max_elem\n",
    "        Iterate and find the elem which is smaller than max_elem but larger than all other elems\n",
    "\n",
    "        TIME => O(n)\n",
    "        \"\"\"\n",
    "        max_elem = max(nums)\n",
    "        res = float('-inf')\n",
    "        for num in nums:\n",
    "            if num < max_elem and num > res:\n",
    "                res = num\n",
    "        return -1 if res == float('-inf') else res"
   ]
  },
  {
   "cell_type": "code",
   "execution_count": 8,
   "id": "3e02b63a",
   "metadata": {},
   "outputs": [
    {
     "data": {
      "text/plain": [
       "7"
      ]
     },
     "execution_count": 8,
     "metadata": {},
     "output_type": "execute_result"
    }
   ],
   "source": [
    "nums = [7, 7, 2, 2, 10, 10, 10]#[1,2,3]#[1,1,1]\n",
    "Solution().secondLargestElement2(nums)"
   ]
  },
  {
   "cell_type": "markdown",
   "id": "3932a729",
   "metadata": {},
   "source": [
    "## Problem 3 - Check if array is sorted\n",
    "\n",
    "Given an array nums of n integers, return true if the array nums is sorted in non-decreasing order or else false.\n",
    "\n",
    "Example\n",
    "- Input : nums = [1, 2, 3, 4, 5]\n",
    "- Output : true"
   ]
  },
  {
   "cell_type": "code",
   "execution_count": 19,
   "id": "2c44a5ad",
   "metadata": {},
   "outputs": [],
   "source": [
    "class Solution:\n",
    "    def isSorted(self, nums):\n",
    "        \"\"\"\n",
    "        Iterate and check if A[i+1] >= A[i]\n",
    "\n",
    "        TIME => O(N)\n",
    "        \"\"\"\n",
    "        for i in range(len(nums)-1):\n",
    "            if nums[i] > nums[i+1]:\n",
    "                return False\n",
    "        return True"
   ]
  },
  {
   "cell_type": "code",
   "execution_count": 16,
   "id": "efac68dd",
   "metadata": {},
   "outputs": [
    {
     "data": {
      "text/plain": [
       "False"
      ]
     },
     "execution_count": 16,
     "metadata": {},
     "output_type": "execute_result"
    }
   ],
   "source": [
    "nums = [1,2,1,1]#[1,2,3,4,5]\n",
    "Solution().isSorted(nums)"
   ]
  },
  {
   "cell_type": "markdown",
   "id": "f7fc7528",
   "metadata": {},
   "source": [
    "## Problem 4 - Remove duplicates\n",
    "\n",
    "Given an integer array nums sorted in non-decreasing order, remove all duplicates in-place so that each unique element appears only once. Return the number of unique elements in the array.\n",
    "\n",
    "Example\n",
    "- Input: nums = [0, 0, 3, 3, 5, 6]\n",
    "- Output: 4"
   ]
  },
  {
   "cell_type": "code",
   "execution_count": null,
   "id": "eb45da3e",
   "metadata": {},
   "outputs": [],
   "source": [
    "class Solution:\n",
    "    def removeDuplicates(self, nums):\n",
    "        \"\"\"\n",
    "        Using set\n",
    "\n",
    "        TIME => O(N)\n",
    "        \"\"\"\n",
    "        return len(set(nums))\n",
    "    \n",
    "class Solution:\n",
    "    def removeDuplicates2(self, nums):\n",
    "        \"\"\"\n",
    "        Iterate and skip num if it is same as the last one\n",
    "        When you encounter a different number, then take it\n",
    "\n",
    "        TIME => O(N)\n",
    "        \"\"\"\n",
    "        # uniq = [nums[0]]\n",
    "        if not nums: return 0\n",
    "        uniq_idx = 0\n",
    "        uniq_ctr = 1\n",
    "        for i in range(1,len(nums)):\n",
    "            if nums[i] != nums[uniq_idx]:\n",
    "                # uniq.append(nums[i])\n",
    "                uniq_idx = i\n",
    "                uniq_ctr += 1\n",
    "        return uniq_ctr"
   ]
  },
  {
   "cell_type": "code",
   "execution_count": 32,
   "id": "22e608f0",
   "metadata": {},
   "outputs": [
    {
     "data": {
      "text/plain": [
       "4"
      ]
     },
     "execution_count": 32,
     "metadata": {},
     "output_type": "execute_result"
    }
   ],
   "source": [
    "nums = [-2, 2, 4, 4, 4, 4, 5, 5]#[0,0,3,3,5,6]\n",
    "Solution().removeDuplicates2(nums)"
   ]
  },
  {
   "cell_type": "markdown",
   "id": "a9d7253a",
   "metadata": {},
   "source": [
    "## Problem 5 - Left Rotate array by One\n",
    "\n",
    "Given an integer array nums, rotate the array to the left by one.\n",
    "\n",
    "Note: There is no need to return anything, just modify the given array.\n",
    "\n",
    "Example\n",
    "- Input: nums = [1, 2, 3, 4, 5]\n",
    "- Output: [2, 3, 4, 5, 1]"
   ]
  },
  {
   "cell_type": "code",
   "execution_count": 40,
   "id": "3d8dce65",
   "metadata": {},
   "outputs": [],
   "source": [
    "class Solution:\n",
    "    def rotateArrayByOne(self, nums):\n",
    "        \"\"\"\n",
    "        Create a temp arr\n",
    "        Iterate from i = 1 to n and append to arr\n",
    "        Finally append nums[0] to arr\n",
    "        \n",
    "        TIME => O(N)\n",
    "        SPACE => O(N)\n",
    "        \"\"\"\n",
    "        return [x for x in nums[1:]] + [nums[0]]\n",
    "    \n",
    "class Solution:\n",
    "    def rotateArrayByOne2(self, nums):\n",
    "        \"\"\"\n",
    "        Take temp = nums[0]\n",
    "        Iterate and shift elems of nums to the left by one\n",
    "        Append temp at last\n",
    "        \n",
    "        TIME => O(N)\n",
    "        SPACE => O(1) (Inplace)\n",
    "        \"\"\"\n",
    "        temp = nums[0]\n",
    "        for i in range(len(nums)-1):\n",
    "            nums[i] = nums[i+1]\n",
    "        nums[i+1] = temp\n",
    "        return nums\n",
    "\n"
   ]
  },
  {
   "cell_type": "code",
   "execution_count": 41,
   "id": "c86e9c9d",
   "metadata": {},
   "outputs": [
    {
     "data": {
      "text/plain": [
       "[2, 3, 4, 5, 1]"
      ]
     },
     "execution_count": 41,
     "metadata": {},
     "output_type": "execute_result"
    }
   ],
   "source": [
    "nums = [1,2,3,4,5]\n",
    "Solution().rotateArrayByOne2(nums)"
   ]
  },
  {
   "cell_type": "markdown",
   "id": "bdff0e54",
   "metadata": {},
   "source": [
    "## Problem 6 - Left Rotate by k places\n",
    "\n",
    "Given an integer array nums and a non-negative integer k, rotate the array to the left by k steps.\n",
    "\n",
    "Example\n",
    "- Input: nums = [3, 4, 1, 5, 3, -5], k = 8\n",
    "- Output: nums = [1, 5, 3, -5, 3, 4]"
   ]
  },
  {
   "cell_type": "code",
   "execution_count": 44,
   "id": "84e27b10",
   "metadata": {},
   "outputs": [],
   "source": [
    "class Solution:\n",
    "    def rotateArray(self, nums, k):\n",
    "        \"\"\"\n",
    "        N = len(nums)\n",
    "        take k = k mod N\n",
    "        Take Temp arr\n",
    "        Iterate from i = k to N and append to arr\n",
    "        Iterate from i = 0 to k and append to arr\n",
    "\n",
    "        TIME => O(N)\n",
    "        SPACE => O(N)\n",
    "        \"\"\"\n",
    "        N = len(nums)\n",
    "        k = k % N\n",
    "        return nums[k:] + nums[:k]"
   ]
  },
  {
   "cell_type": "code",
   "execution_count": 43,
   "id": "79b4bd38",
   "metadata": {},
   "outputs": [
    {
     "data": {
      "text/plain": [
       "[1, 5, 3, -5, 3, 4]"
      ]
     },
     "execution_count": 43,
     "metadata": {},
     "output_type": "execute_result"
    }
   ],
   "source": [
    "nums = [3, 4, 1, 5, 3, -5]\n",
    "k = 8\n",
    "Solution().rotateArray(nums,k)"
   ]
  },
  {
   "cell_type": "markdown",
   "id": "217ac3ca",
   "metadata": {},
   "source": [
    "## Problem 7 - Move zeros to the end\n",
    "\n",
    "Given an integer array nums, move all the 0's to the end of the array. \n",
    "The relative order of the other elements must remain the same. \n",
    "This must be done in place, without making a copy of the array.\n",
    "\n",
    "Example\n",
    "- Input: nums = [0, 1, 4, 0, 5, 2]\n",
    "- Output: [1, 4, 5, 2, 0, 0]"
   ]
  },
  {
   "cell_type": "code",
   "execution_count": 52,
   "id": "1e7c12ec",
   "metadata": {},
   "outputs": [],
   "source": [
    "class Solution:\n",
    "    def moveZeroes(self, nums):\n",
    "        \"\"\"\n",
    "        Take temp arr\n",
    "        Iterate and append non-zero elems to arr, and count zeros (k)\n",
    "        Iterate for k and append 0 to arr\n",
    "\n",
    "        TIME => O(N)\n",
    "        SPACE => O(N)\n",
    "        \"\"\"\n",
    "        temp = []\n",
    "        k = 0\n",
    "        N = len(nums)\n",
    "        for i in range(N):\n",
    "            if nums[i] != 0:\n",
    "                temp.append(nums[i])\n",
    "            else:\n",
    "                k += 1\n",
    "        for i in range(k):\n",
    "            temp.append(0)\n",
    "        return temp\n",
    "\n",
    "class Solution:\n",
    "    def moveZeroes2(self, nums):\n",
    "        \"\"\"\n",
    "        Iterate and find the index of first zero elem -> j\n",
    "        Iterate over nums i = j+1 to N\n",
    "            if non-zero elem is encountered, then swap nums[i] and nums[j], change pointer j to i\n",
    "        \"\"\"\n",
    "        N = len(nums)\n",
    "        for j in range(N):\n",
    "            if nums[j] == 0:\n",
    "                break\n",
    "        # if j == N-1: return nums\n",
    "        for i in range(j+1,N):\n",
    "            if nums[i] != 0:\n",
    "                nums[i], nums[j] = nums[j], nums[i]\n",
    "                j += 1\n",
    "        return nums"
   ]
  },
  {
   "cell_type": "code",
   "execution_count": 55,
   "id": "bd60f1ce",
   "metadata": {},
   "outputs": [
    {
     "data": {
      "text/plain": [
       "[1, 4, 0, 0, 0, 0]"
      ]
     },
     "execution_count": 55,
     "metadata": {},
     "output_type": "execute_result"
    }
   ],
   "source": [
    "nums = [0,1,0,0,0,4]#[1,2,3,4]#[0, 1, 4, 0, 5, 2]\n",
    "Solution().moveZeroes2(nums)"
   ]
  },
  {
   "cell_type": "code",
   "execution_count": null,
   "id": "b197374c",
   "metadata": {},
   "outputs": [],
   "source": []
  },
  {
   "cell_type": "code",
   "execution_count": null,
   "id": "6213356b",
   "metadata": {},
   "outputs": [],
   "source": []
  }
 ],
 "metadata": {
  "kernelspec": {
   "display_name": "mle",
   "language": "python",
   "name": "python3"
  },
  "language_info": {
   "codemirror_mode": {
    "name": "ipython",
    "version": 3
   },
   "file_extension": ".py",
   "mimetype": "text/x-python",
   "name": "python",
   "nbconvert_exporter": "python",
   "pygments_lexer": "ipython3",
   "version": "3.11.8"
  }
 },
 "nbformat": 4,
 "nbformat_minor": 5
}
