{
 "cells": [
  {
   "cell_type": "markdown",
   "id": "8e8b1616",
   "metadata": {},
   "source": [
    "## Problem 1 - Count frequencies\n",
    "\n",
    "Given an array nums of size n which may contain duplicate elements, return a list of pairs where each pair contains a unique element from the array and its frequency in the array.\n",
    "\n",
    "You may return the result in any order, but each element must appear exactly once in the output.\n",
    "\n",
    "Example\n",
    "\n",
    "- Input - [1,1,1,2,3,3]\n",
    "- Output - [[1,3],[2,1],[3,3]]"
   ]
  },
  {
   "cell_type": "code",
   "execution_count": 1,
   "id": "3d5ffd3a",
   "metadata": {},
   "outputs": [],
   "source": [
    "class Solution:\n",
    "    def countFrequencies(self, nums):\n",
    "        map = {}\n",
    "        for num in nums:\n",
    "            if num in map:\n",
    "                map[num] += 1\n",
    "            else:\n",
    "                map[num] = 1\n",
    "        return [[k,v] for k,v in map.items()]"
   ]
  },
  {
   "cell_type": "markdown",
   "id": "78c3783d",
   "metadata": {},
   "source": [
    "## Problem 2 - Most frequent element\n",
    "\n",
    "Given an array of n integers, find the most frequent element in it i.e., the element that occurs the maximum number of times. If there are multiple elements that appear a maximum number of times, find the smallest of them.\n",
    "\n",
    "Example 1\n",
    "- Input: arr = [1, 2, 2, 3, 3, 3]\n",
    "- Output: 3\n",
    "\n",
    "Example 2\n",
    "- Input: arr = [1, 1, 2, 3, 2, 3]\n",
    "- Output: 1\n"
   ]
  },
  {
   "cell_type": "code",
   "execution_count": 2,
   "id": "ac5b7c27",
   "metadata": {},
   "outputs": [
    {
     "data": {
      "text/plain": [
       "[[1, 3], [2, 1], [3, 2]]"
      ]
     },
     "execution_count": 2,
     "metadata": {},
     "output_type": "execute_result"
    }
   ],
   "source": [
    "nums = [1,1,1,2,3,3]\n",
    "Solution().countFrequencies(nums)"
   ]
  },
  {
   "cell_type": "code",
   "execution_count": 31,
   "id": "4cdb2dd0",
   "metadata": {},
   "outputs": [],
   "source": [
    "class Solution:\n",
    "    def mostFrequentElement(self, nums):\n",
    "        \"\"\"\n",
    "        Create a hashmap with frequencies of each unique number => num2freq\n",
    "        Convert to another hashmap with one frequency mapped to a list of numbers having that frequency => freq2num\n",
    "        Take max frequency and min of the corresponding element list\n",
    "        \"\"\"\n",
    "        num2freq = {}\n",
    "        for num in nums:\n",
    "            num2freq[num] = num2freq.get(num,0) + 1\n",
    "        max_freq = max(num2freq.values())\n",
    "        freq2num = {}\n",
    "        for num, freq in num2freq.items():\n",
    "            if freq not in freq2num:\n",
    "                freq2num[freq] = [num]\n",
    "            else:\n",
    "                freq2num[freq].append(num)\n",
    "        return min(freq2num[max_freq])\n",
    "    \n",
    "class Solution:\n",
    "    def mostFrequentElement2(self, nums):\n",
    "        \"\"\"\n",
    "        Create a hashmap with frequencies of each unique number => num2freq\n",
    "        Find max frequency\n",
    "        Iterate and Find the min of the elements having that frequency\n",
    "        \"\"\"\n",
    "        num2freq = {}\n",
    "        for num in nums:\n",
    "            num2freq[num] = num2freq.get(num,0) + 1\n",
    "        max_freq = max(num2freq.values())\n",
    "        most_freq_elems = [num for num,freq in num2freq.items() if freq == max_freq]\n",
    "        return min(most_freq_elems)"
   ]
  },
  {
   "cell_type": "code",
   "execution_count": 33,
   "id": "962d6302",
   "metadata": {},
   "outputs": [
    {
     "data": {
      "text/plain": [
       "1"
      ]
     },
     "execution_count": 33,
     "metadata": {},
     "output_type": "execute_result"
    }
   ],
   "source": [
    "# nums = [[2,3],[1,3],[3,2]]\n",
    "nums = [2,2,1,1,3] #[1,2,2,3,3,3]\n",
    "Solution().mostFrequentElement2(nums)"
   ]
  },
  {
   "cell_type": "code",
   "execution_count": null,
   "id": "36f05167",
   "metadata": {},
   "outputs": [],
   "source": []
  }
 ],
 "metadata": {
  "kernelspec": {
   "display_name": "mle",
   "language": "python",
   "name": "python3"
  },
  "language_info": {
   "codemirror_mode": {
    "name": "ipython",
    "version": 3
   },
   "file_extension": ".py",
   "mimetype": "text/x-python",
   "name": "python",
   "nbconvert_exporter": "python",
   "pygments_lexer": "ipython3",
   "version": "3.11.8"
  }
 },
 "nbformat": 4,
 "nbformat_minor": 5
}
