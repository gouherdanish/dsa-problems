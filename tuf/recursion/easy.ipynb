{
 "cells": [
  {
   "cell_type": "markdown",
   "id": "9d311557",
   "metadata": {},
   "source": [
    "## Problem 1 - TUF\n",
    "\n",
    "Given an integer n, write a function to print all numbers from 1 to n (inclusive) using recursion.\n",
    "\n",
    "You must not use any loops such as for, while, or do-while.\n",
    "The function should print each number on a separate line, in increasing order from 1 to n.\n",
    "\n",
    "Example 1\n",
    "Input: n = 3\n",
    "Output:\n",
    "\n",
    "1\n",
    "\n",
    "2\n",
    "\n",
    "3 "
   ]
  },
  {
   "cell_type": "code",
   "execution_count": null,
   "id": "96f5d832",
   "metadata": {},
   "outputs": [],
   "source": [
    "class Solution:\n",
    "    def printNumbers(self, n):\n",
    "        def dfs(i):\n",
    "          if i > n: return\n",
    "          else:\n",
    "            print(i)\n",
    "            return dfs(i+1)\n",
    "        return dfs(1)"
   ]
  },
  {
   "cell_type": "code",
   "execution_count": 5,
   "metadata": {},
   "outputs": [
    {
     "name": "stdout",
     "output_type": "stream",
     "text": [
      "1\n",
      "2\n",
      "3\n"
     ]
    }
   ],
   "source": [
    "Solution().printNumbers(3)"
   ]
  },
  {
   "cell_type": "code",
   "execution_count": null,
   "id": "7551300d",
   "metadata": {},
   "outputs": [],
   "source": []
  }
 ],
 "metadata": {
  "kernelspec": {
   "display_name": "mle",
   "language": "python",
   "name": "python3"
  },
  "language_info": {
   "codemirror_mode": {
    "name": "ipython",
    "version": 3
   },
   "file_extension": ".py",
   "mimetype": "text/x-python",
   "name": "python",
   "nbconvert_exporter": "python",
   "pygments_lexer": "ipython3",
   "version": "3.11.8"
  }
 },
 "nbformat": 4,
 "nbformat_minor": 5
}
