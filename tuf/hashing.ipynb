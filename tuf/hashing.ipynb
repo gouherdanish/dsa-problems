{
 "cells": [
  {
   "cell_type": "markdown",
   "id": "8e8b1616",
   "metadata": {},
   "source": [
    "## Problem 1 - Count frequencies\n",
    "\n",
    "Given an array nums of size n which may contain duplicate elements, return a list of pairs where each pair contains a unique element from the array and its frequency in the array.\n",
    "\n",
    "You may return the result in any order, but each element must appear exactly once in the output.\n",
    "\n",
    "Example\n",
    "\n",
    "- Input - [1,1,1,2,3,3]\n",
    "- Output - [[1,3],[2,1],[3,3]]"
   ]
  },
  {
   "cell_type": "code",
   "execution_count": 1,
   "id": "3d5ffd3a",
   "metadata": {},
   "outputs": [],
   "source": [
    "class Solution:\n",
    "    def countFrequencies(self, nums):\n",
    "        map = {}\n",
    "        for num in nums:\n",
    "            if num in map:\n",
    "                map[num] += 1\n",
    "            else:\n",
    "                map[num] = 1\n",
    "        return [[k,v] for k,v in map.items()]"
   ]
  },
  {
   "cell_type": "code",
   "execution_count": 2,
   "id": "ac5b7c27",
   "metadata": {},
   "outputs": [
    {
     "data": {
      "text/plain": [
       "[[1, 3], [2, 1], [3, 2]]"
      ]
     },
     "execution_count": 2,
     "metadata": {},
     "output_type": "execute_result"
    }
   ],
   "source": [
    "nums = [1,1,1,2,3,3]\n",
    "Solution().countFrequencies(nums)"
   ]
  },
  {
   "cell_type": "code",
   "execution_count": null,
   "id": "36f05167",
   "metadata": {},
   "outputs": [],
   "source": []
  }
 ],
 "metadata": {
  "kernelspec": {
   "display_name": "mle",
   "language": "python",
   "name": "python3"
  },
  "language_info": {
   "codemirror_mode": {
    "name": "ipython",
    "version": 3
   },
   "file_extension": ".py",
   "mimetype": "text/x-python",
   "name": "python",
   "nbconvert_exporter": "python",
   "pygments_lexer": "ipython3",
   "version": "3.11.8"
  }
 },
 "nbformat": 4,
 "nbformat_minor": 5
}
