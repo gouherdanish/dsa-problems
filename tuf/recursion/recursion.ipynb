{
 "cells": [
  {
   "cell_type": "markdown",
   "id": "9d311557",
   "metadata": {},
   "source": [
    "## Problem 1 - Print 1 to n\n",
    "\n",
    "Given an integer n, write a function to print all numbers from 1 to n (inclusive) using recursion.\n",
    "\n",
    "You must not use any loops such as for, while, or do-while.\n",
    "The function should print each number on a separate line, in increasing order from 1 to n.\n",
    "\n",
    "Example 1\n",
    "Input: n = 3\n",
    "Output:\n",
    "\n",
    "1\n",
    "\n",
    "2\n",
    "\n",
    "3 "
   ]
  },
  {
   "cell_type": "code",
   "execution_count": null,
   "id": "96f5d832",
   "metadata": {},
   "outputs": [],
   "source": [
    "class Solution:\n",
    "    def printNumbers(self, n):\n",
    "        \"\"\"\n",
    "        T(n) = T(n-1) + O(1)\n",
    "        => O(n)\n",
    "        \"\"\"\n",
    "        def dfs(i):\n",
    "          if i > n: return\n",
    "          else:\n",
    "            print(i)\n",
    "            return dfs(i+1)\n",
    "        return dfs(1)"
   ]
  },
  {
   "cell_type": "code",
   "execution_count": 5,
   "metadata": {},
   "outputs": [
    {
     "name": "stdout",
     "output_type": "stream",
     "text": [
      "1\n",
      "2\n",
      "3\n"
     ]
    }
   ],
   "source": [
    "Solution().printNumbers(3)"
   ]
  },
  {
   "cell_type": "markdown",
   "id": "6c4cda01",
   "metadata": {},
   "source": [
    "## Problem 2 - Print n to 1\n",
    "\n",
    "Given an integer n, write a function to print all numbers from n to 1 (inclusive) using recursion.\n",
    "\n",
    "You must not use any loops such as for, while, or do-while.\n",
    "The function should print each number on a separate line, in decreasing order from n to 1"
   ]
  },
  {
   "cell_type": "code",
   "execution_count": null,
   "id": "4aa0479f",
   "metadata": {},
   "outputs": [],
   "source": [
    "class Solution:\n",
    "    def printNumbers(self, n):\n",
    "        \"\"\"\n",
    "        T(n) = T(n-1) + O(1)\n",
    "        => O(n)\n",
    "        \"\"\"\n",
    "        def dfs(i):\n",
    "            if i == 0: return\n",
    "            print(i)\n",
    "            return dfs(i-1)\n",
    "        return dfs(n)"
   ]
  },
  {
   "cell_type": "code",
   "execution_count": 2,
   "id": "5136ddbc",
   "metadata": {},
   "outputs": [
    {
     "name": "stdout",
     "output_type": "stream",
     "text": [
      "4\n",
      "3\n",
      "2\n",
      "1\n"
     ]
    }
   ],
   "source": [
    "Solution().printNumbers(4)"
   ]
  },
  {
   "cell_type": "markdown",
   "id": "801ebff9",
   "metadata": {},
   "source": [
    "## Problem 3 - Sum of 1st n Natural Numbers\n",
    "\n",
    "Given an integer N, return the sum of first N natural numbers. Try to solve this using recursion."
   ]
  },
  {
   "cell_type": "code",
   "execution_count": null,
   "id": "33e341ca",
   "metadata": {},
   "outputs": [],
   "source": [
    "class Solution:\n",
    "    def NnumbersSum(self, N):\n",
    "        \"\"\"\n",
    "        T(n) = T(n-1) + O(1)\n",
    "        => O(n)\n",
    "        \"\"\"\n",
    "        def dfs(x):\n",
    "            if x == 1: return 1\n",
    "            return x + dfs(x-1)\n",
    "        return dfs(N)"
   ]
  },
  {
   "cell_type": "code",
   "execution_count": 8,
   "id": "7551300d",
   "metadata": {},
   "outputs": [
    {
     "data": {
      "text/plain": [
       "10"
      ]
     },
     "execution_count": 8,
     "metadata": {},
     "output_type": "execute_result"
    }
   ],
   "source": [
    "Solution().NnumbersSum(4)"
   ]
  },
  {
   "cell_type": "markdown",
   "id": "ec0e83fd",
   "metadata": {},
   "source": [
    "## Problem 4 - Reverse an Array\n",
    "\n",
    "Given an array arr of n elements. The task is to reverse the given array. \n",
    "The reversal of array should be inplace.\n",
    "\n",
    "Example\n",
    "- Input: n=6, arr = [1,2,1,1,5,1]\n",
    "- Output: [1,5,1,1,2,1]"
   ]
  },
  {
   "cell_type": "code",
   "execution_count": 9,
   "id": "76dcc5c5",
   "metadata": {},
   "outputs": [],
   "source": [
    "class Solution:\n",
    "    def reverse(self, arr, n):\n",
    "        def dfs(idx1,idx2):\n",
    "            if idx1 >= idx2: return\n",
    "            arr[idx1], arr[idx2] = arr[idx2], arr[idx1]\n",
    "            return dfs(idx1+1,idx2-1)\n",
    "        dfs(0,n-1)\n",
    "        return arr"
   ]
  },
  {
   "cell_type": "code",
   "execution_count": 11,
   "id": "98e37687",
   "metadata": {},
   "outputs": [
    {
     "data": {
      "text/plain": [
       "[1, 2, 1, 1, 5, 1]"
      ]
     },
     "execution_count": 11,
     "metadata": {},
     "output_type": "execute_result"
    }
   ],
   "source": [
    "arr = [1,5,1,1,2,1] # [1,2,3,4,5]\n",
    "n = len(arr)\n",
    "\n",
    "Solution().reverse(arr,n)"
   ]
  },
  {
   "cell_type": "markdown",
   "id": "c3310e9d",
   "metadata": {},
   "source": [
    "## Problem 5 - Palindrome\n",
    "\n",
    "Given a string s, return true if the string is palindrome, otherwise false.\n",
    "\n",
    "A string is called palindrome if it reads the same forward and backward.\n",
    "\n",
    "Example\n",
    "- Input : s = \"hannah\"\n",
    "- Output : true"
   ]
  },
  {
   "cell_type": "code",
   "execution_count": 12,
   "id": "481c09b2",
   "metadata": {},
   "outputs": [],
   "source": [
    "class Solution:    \n",
    "    def palindromeCheck(self, s):\n",
    "        def dfs(i,j):\n",
    "            if i>j: return True\n",
    "            return s[i]==s[j] and dfs(i+1,j-1)\n",
    "        return dfs(0,len(s)-1)"
   ]
  },
  {
   "cell_type": "code",
   "execution_count": 17,
   "id": "8d20b2c2",
   "metadata": {},
   "outputs": [
    {
     "data": {
      "text/plain": [
       "True"
      ]
     },
     "execution_count": 17,
     "metadata": {},
     "output_type": "execute_result"
    }
   ],
   "source": [
    "s = \"abccba\" #\"hannah\"\n",
    "Solution().palindromeCheck(s)"
   ]
  },
  {
   "cell_type": "markdown",
   "id": "9aaf0c4a",
   "metadata": {},
   "source": [
    "## Problem 6 - Fibonacci Numbers\n",
    "\n",
    "The Fibonacci numbers, commonly denoted F(n) form a sequence, called the Fibonacci sequence, such that each number is the sum of the two preceding ones, starting from 0 and 1. That is,\n",
    "\n",
    "F(0) = 0, F(1) = 1\n",
    "F(n) = F(n - 1) + F(n - 2), for n > 1.\n",
    "\n",
    "Given n, calculate F(n)."
   ]
  },
  {
   "cell_type": "code",
   "execution_count": 22,
   "id": "d47f87ab",
   "metadata": {},
   "outputs": [],
   "source": [
    "class Solution:\n",
    "    def fib(self, n):\n",
    "        \"\"\"T(n)\n",
    "            = T(n-1) + T(n-2) + O(1)\n",
    "            = 2T(n-1) + O(1)\n",
    "            = 2^k.T(n-k) + O(1).[1+2+...+k]\n",
    "            = 2^n\n",
    "        \"\"\"\n",
    "        def dfs(i):\n",
    "            if i==0 or i==1: return i\n",
    "            return dfs(i-1) + dfs(i-2)\n",
    "        return dfs(n)"
   ]
  },
  {
   "cell_type": "code",
   "execution_count": 21,
   "id": "3814af99",
   "metadata": {},
   "outputs": [
    {
     "data": {
      "text/plain": [
       "5"
      ]
     },
     "execution_count": 21,
     "metadata": {},
     "output_type": "execute_result"
    }
   ],
   "source": [
    "Solution().fib(5)"
   ]
  },
  {
   "cell_type": "code",
   "execution_count": null,
   "id": "e9180c4b",
   "metadata": {},
   "outputs": [],
   "source": []
  }
 ],
 "metadata": {
  "kernelspec": {
   "display_name": "mle",
   "language": "python",
   "name": "python3"
  },
  "language_info": {
   "codemirror_mode": {
    "name": "ipython",
    "version": 3
   },
   "file_extension": ".py",
   "mimetype": "text/x-python",
   "name": "python",
   "nbconvert_exporter": "python",
   "pygments_lexer": "ipython3",
   "version": "3.11.8"
  }
 },
 "nbformat": 4,
 "nbformat_minor": 5
}
