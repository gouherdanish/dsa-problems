{
 "cells": [
  {
   "cell_type": "markdown",
   "id": "9d311557",
   "metadata": {},
   "source": [
    "## Problem 1 - Print 1 to n\n",
    "\n",
    "Given an integer n, write a function to print all numbers from 1 to n (inclusive) using recursion.\n",
    "\n",
    "You must not use any loops such as for, while, or do-while.\n",
    "The function should print each number on a separate line, in increasing order from 1 to n.\n",
    "\n",
    "Example 1\n",
    "Input: n = 3\n",
    "Output:\n",
    "\n",
    "1\n",
    "\n",
    "2\n",
    "\n",
    "3 "
   ]
  },
  {
   "cell_type": "code",
   "execution_count": null,
   "id": "96f5d832",
   "metadata": {},
   "outputs": [],
   "source": [
    "class Solution:\n",
    "    def printNumbers(self, n):\n",
    "        \"\"\"\n",
    "        T(n) = T(n-1) + O(1)\n",
    "        => O(n)\n",
    "        \"\"\"\n",
    "        def dfs(i):\n",
    "          if i > n: return\n",
    "          else:\n",
    "            print(i)\n",
    "            return dfs(i+1)\n",
    "        return dfs(1)"
   ]
  },
  {
   "cell_type": "code",
   "execution_count": 5,
   "metadata": {},
   "outputs": [
    {
     "name": "stdout",
     "output_type": "stream",
     "text": [
      "1\n",
      "2\n",
      "3\n"
     ]
    }
   ],
   "source": [
    "Solution().printNumbers(3)"
   ]
  },
  {
   "cell_type": "markdown",
   "id": "6c4cda01",
   "metadata": {},
   "source": [
    "Problem 2 - Print n to 1\n",
    "\n",
    "Given an integer n, write a function to print all numbers from n to 1 (inclusive) using recursion.\n",
    "\n",
    "You must not use any loops such as for, while, or do-while.\n",
    "The function should print each number on a separate line, in decreasing order from n to 1"
   ]
  },
  {
   "cell_type": "code",
   "execution_count": null,
   "id": "4aa0479f",
   "metadata": {},
   "outputs": [],
   "source": [
    "class Solution:\n",
    "    def printNumbers(self, n):\n",
    "        \"\"\"\n",
    "        T(n) = T(n-1) + O(1)\n",
    "        => O(n)\n",
    "        \"\"\"\n",
    "        def dfs(i):\n",
    "            if i == 0: return\n",
    "            print(i)\n",
    "            return dfs(i-1)\n",
    "        return dfs(n)"
   ]
  },
  {
   "cell_type": "code",
   "execution_count": 2,
   "id": "5136ddbc",
   "metadata": {},
   "outputs": [
    {
     "name": "stdout",
     "output_type": "stream",
     "text": [
      "4\n",
      "3\n",
      "2\n",
      "1\n"
     ]
    }
   ],
   "source": [
    "Solution().printNumbers(4)"
   ]
  },
  {
   "cell_type": "markdown",
   "id": "801ebff9",
   "metadata": {},
   "source": [
    "Problem 3 - Sum of 1st n Natural Numbers\n",
    "\n",
    "Given an integer N, return the sum of first N natural numbers. Try to solve this using recursion."
   ]
  },
  {
   "cell_type": "code",
   "execution_count": null,
   "id": "33e341ca",
   "metadata": {},
   "outputs": [],
   "source": [
    "class Solution:\n",
    "    def NnumbersSum(self, N):\n",
    "        \"\"\"\n",
    "        T(n) = T(n-1) + O(1)\n",
    "        => O(n)\n",
    "        \"\"\"\n",
    "        def dfs(x):\n",
    "            if x == 1: return 1\n",
    "            return x + dfs(x-1)\n",
    "        return dfs(N)"
   ]
  },
  {
   "cell_type": "code",
   "execution_count": 8,
   "id": "7551300d",
   "metadata": {},
   "outputs": [
    {
     "data": {
      "text/plain": [
       "10"
      ]
     },
     "execution_count": 8,
     "metadata": {},
     "output_type": "execute_result"
    }
   ],
   "source": [
    "Solution().NnumbersSum(4)"
   ]
  },
  {
   "cell_type": "code",
   "execution_count": null,
   "id": "8d20b2c2",
   "metadata": {},
   "outputs": [],
   "source": []
  }
 ],
 "metadata": {
  "kernelspec": {
   "display_name": "mle",
   "language": "python",
   "name": "python3"
  },
  "language_info": {
   "codemirror_mode": {
    "name": "ipython",
    "version": 3
   },
   "file_extension": ".py",
   "mimetype": "text/x-python",
   "name": "python",
   "nbconvert_exporter": "python",
   "pygments_lexer": "ipython3",
   "version": "3.11.8"
  }
 },
 "nbformat": 4,
 "nbformat_minor": 5
}
